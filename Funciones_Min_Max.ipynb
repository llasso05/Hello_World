{
  "nbformat": 4,
  "nbformat_minor": 0,
  "metadata": {
    "colab": {
      "name": "funciones Min Max.ipynb",
      "provenance": [],
      "authorship_tag": "ABX9TyPF6hta+tGzD9DTE6KMWYZs",
      "include_colab_link": true
    },
    "kernelspec": {
      "name": "python3",
      "display_name": "Python 3"
    },
    "language_info": {
      "name": "python"
    }
  },
  "cells": [
    {
      "cell_type": "markdown",
      "metadata": {
        "id": "view-in-github",
        "colab_type": "text"
      },
      "source": [
        "<a href=\"https://colab.research.google.com/github/llasso05/Hello_World/blob/main/Funciones_Min_Max.ipynb\" target=\"_parent\"><img src=\"https://colab.research.google.com/assets/colab-badge.svg\" alt=\"Open In Colab\"/></a>"
      ]
    },
    {
      "cell_type": "markdown",
      "metadata": {
        "id": "FGqMU7K2YPQe"
      },
      "source": [
        "# Este programa pregunta por 5 numeros y te dice cual es el mas grande.\n"
      ]
    },
    {
      "cell_type": "code",
      "metadata": {
        "id": "4iqqs67-YXgh"
      },
      "source": [
        "import numpy as np"
      ],
      "execution_count": 1,
      "outputs": []
    },
    {
      "cell_type": "markdown",
      "metadata": {
        "id": "ql6Mu1OEYa7K"
      },
      "source": [
        "# Primero definiremos 5 variables con la funcion input."
      ]
    },
    {
      "cell_type": "code",
      "metadata": {
        "colab": {
          "base_uri": "https://localhost:8080/"
        },
        "id": "m9DhibD7YaH1",
        "outputId": "79353aa3-5a71-4cdc-b97f-e06c1e2a327e"
      },
      "source": [
        "5\n",
        "a = int(input('Ingresa un numero 1 '))\n",
        "b = int(input('Ingresa un numero 2 '))\n",
        "c = int(input('Ingresa un numero 3 '))\n",
        "d = int(input('Ingresa un numero 4 '))\n",
        "f = int(input('Ingresa un numero 5 '))"
      ],
      "execution_count": 2,
      "outputs": [
        {
          "output_type": "stream",
          "text": [
            "Ingresa un numero 1 1\n",
            "Ingresa un numero 2 2\n",
            "Ingresa un numero 3 3\n",
            "Ingresa un numero 4 4\n",
            "Ingresa un numero 5 5\n"
          ],
          "name": "stdout"
        }
      ]
    },
    {
      "cell_type": "markdown",
      "metadata": {
        "id": "PxvoIdT1YaVY"
      },
      "source": [
        "# En este paso convertimos cada uno de los inputs en un Numpy arraay con la funcion 'array' y asignamos esta lista a la variable numeros "
      ]
    },
    {
      "cell_type": "code",
      "metadata": {
        "id": "sTo7nlejZECU"
      },
      "source": [
        "Numeros = np.array([a,b,c,d,f])"
      ],
      "execution_count": 3,
      "outputs": []
    },
    {
      "cell_type": "markdown",
      "metadata": {
        "id": "FWKJRBO2Zuee"
      },
      "source": [
        "# La funcion Max te permitira saber cual es el numero mas grande de la lista recien creada."
      ]
    },
    {
      "cell_type": "code",
      "metadata": {
        "colab": {
          "base_uri": "https://localhost:8080/"
        },
        "id": "KCEYtgUQaeIE",
        "outputId": "fc466b9c-016b-4a44-da89-9ca83aa27911"
      },
      "source": [
        "print(max(Numeros))"
      ],
      "execution_count": 6,
      "outputs": [
        {
          "output_type": "stream",
          "text": [
            "5\n"
          ],
          "name": "stdout"
        }
      ]
    },
    {
      "cell_type": "markdown",
      "metadata": {
        "id": "VuhJEqPGayF_"
      },
      "source": [
        "# .format\n",
        "la cuncion format me permite ejecutar funciones numericas y agregarlas a un texto impreso por medio de {}"
      ]
    },
    {
      "cell_type": "code",
      "metadata": {
        "colab": {
          "base_uri": "https://localhost:8080/"
        },
        "id": "CcmOo4K3aj4c",
        "outputId": "6bbac7b1-1649-458a-f37d-5637c305f289"
      },
      "source": [
        "print('El numero mas grande es {}'.format(max(Numeros)))\n",
        "print('El numero mas chico es {}'.format(min(Numeros)))"
      ],
      "execution_count": 7,
      "outputs": [
        {
          "output_type": "stream",
          "text": [
            "El numero mas grande es 5\n",
            "El numero mas chico es 1\n"
          ],
          "name": "stdout"
        }
      ]
    }
  ]
}