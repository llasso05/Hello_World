{
  "nbformat": 4,
  "nbformat_minor": 0,
  "metadata": {
    "colab": {
      "name": "TwitterApp",
      "provenance": [],
      "authorship_tag": "ABX9TyOCCIJfZVB9pPnOn1B0LLZs",
      "include_colab_link": true
    },
    "kernelspec": {
      "name": "python3",
      "display_name": "Python 3"
    },
    "language_info": {
      "name": "python"
    }
  },
  "cells": [
    {
      "cell_type": "markdown",
      "metadata": {
        "id": "view-in-github",
        "colab_type": "text"
      },
      "source": [
        "<a href=\"https://colab.research.google.com/github/llasso05/Hello_World/blob/main/TwitterApp.ipynb\" target=\"_parent\"><img src=\"https://colab.research.google.com/assets/colab-badge.svg\" alt=\"Open In Colab\"/></a>"
      ]
    },
    {
      "cell_type": "markdown",
      "metadata": {
        "id": "JvuVndM6YR1M"
      },
      "source": [
        "#Twitter Sentiment Analysis\n",
        "\n",
        "Twitter is an American microblogging and social networking service on which users post and interact with messages known as \"tweets\". Registered users can post, like and retweet tweets, but unregistered users can only read them. Users access Twitter through its website interface or its mobile-device application software (\"app\"), though the service could also be accessed via SMS before April 2020. Twitter, Inc. is based in San Francisco, California, and has more than 25 offices around the world.Tweets were originally restricted to 140 characters, but was doubled to 280 for non-CJK languages in November 2017.\n",
        "\n",
        "Twitter boasts 330 million monthly active users, which allows businesses to reach a broad audience and connect with customers without intermediaries. On the downside, there’s so much information that it’s hard for brands to quickly detect negative social mentions that could harm their business.\n",
        "\n",
        "That's why sentiment analysis, which involves monitoring emotions in conversations on social media platforms, has become a key strategy in social media marketing."
      ]
    },
    {
      "cell_type": "code",
      "metadata": {
        "id": "1qCCs_ljYyEC"
      },
      "source": [
        "#importing libraries\n",
        "import tweepy\n",
        "from textblob import TextBlob\n",
        "from wordcloud import WordCloud\n",
        "import pandas as pd\n",
        "import numpy as np\n",
        "import re\n",
        "import matplotlib.pyplot as plt\n",
        "plt.style.use('fivethirtyeight')"
      ],
      "execution_count": 4,
      "outputs": []
    },
    {
      "cell_type": "markdown",
      "metadata": {
        "id": "6C3r8IgXh9yD"
      },
      "source": [
        "#Twitter Developer Account Access \n",
        "To get access to a twitter developer account you'll need to request access to twitter developers through link https://developer.twitter.com/en/apply-for-access . Be very specific with your request and send sample links with the examples of your intentions."
      ]
    },
    {
      "cell_type": "code",
      "metadata": {
        "id": "e09JcxJteSMT"
      },
      "source": [
        "# Authentication\n",
        "consumerKey = '35W9VaMCjZB6sr2HeliklQ7ME'\n",
        "consumerSecret = '4aYLWKsT1x0Hu1vNE6fL75rIFP0ApwRM3QmkWpMDMwBCEqFzje'\n",
        "bearerToken = 'AAAAAAAAAAAAAAAAAAAAAIL4NgEAAAAA6Tz8K3E7Q%2B%2Fpwt4arAJKWXMtU14%3Dsr6UE3jgnDz4CTB4BiSyt1zisFhdWaQ66ugucYRfqseTOMmz6e'\n",
        "accessToken = '1370879432710311942-uGzGBdXivgwpVhbBHYXNmqMVjCShbY'\n",
        "accessTokenSecret = 'OoN2DLa8f7IHRFPFl2oEvMhNljmc9REP8Ae4iLn5CLVwW'\n"
      ],
      "execution_count": 5,
      "outputs": []
    },
    {
      "cell_type": "markdown",
      "metadata": {
        "id": "7XEg1tF5jRbf"
      },
      "source": [
        "#Python Try Except\n",
        "The try block lets you test a block of code for errors.\n",
        "\n",
        "The except block lets you handle el error.\n",
        "\n",
        "The finally block lets you execute code, regardless of the result of the try and except blocks\n",
        "\n"
      ]
    },
    {
      "cell_type": "code",
      "metadata": {
        "id": "0U4fDirMeWRl"
      },
      "source": [
        "try:\n",
        "    auth = tweepy.OAuthHandler(consumerKey, consumerSecret)\n",
        "    auth.set_access_token(accessToken, accessTokenSecret)\n",
        "    api = tweepy.API(auth)\n",
        "except:\n",
        "    print('Error: Authentication Failed')"
      ],
      "execution_count": 6,
      "outputs": []
    },
    {
      "cell_type": "code",
      "metadata": {
        "colab": {
          "base_uri": "https://localhost:8080/"
        },
        "id": "RiUcUT5VkaN9",
        "outputId": "853ac6cb-3333-4585-d71f-0f18bc888573"
      },
      "source": [
        "# Extract 100 tweets from the twitter user\n",
        "posts = api.user_timeline(screen_name = \"BillGates\", count=100, lang=\"en\", tweet_mode= \"extended\")\n",
        "\n",
        "print(\"Show the 5 recent tweets: \\n\")\n",
        "i = 1\n",
        "for tweet in posts[0:5]:\n",
        "  print(str(i)+ ') '+ tweet.full_text+\"\\n\")\n",
        "  i=i+1"
      ],
      "execution_count": 52,
      "outputs": [
        {
          "output_type": "stream",
          "text": [
            "Show the 5 recent tweets: \n",
            "\n",
            "1) The best way to prevent new variants from emerging is by stopping transmission of the virus altogether: https://t.co/KhJoM3LBmr https://t.co/5Vhfsjew3D\n",
            "\n",
            "2) It's encouraging to see innovation and clean energy investments at the forefront of @POTUS's #AmericanJobsPlan. Building markets for new energy technologies is good for jobs today and will build the economies we need while avoiding a climate disaster. https://t.co/V6GcPSiaH8\n",
            "\n",
            "3) Here are five things you should know if you want to understand how variants are (and aren’t) complicating the pandemic. https://t.co/rANiDcZynJ\n",
            "\n",
            "4) RT @IFPRI: 💡 From #climateadaptation to #genderequality, discover @CGIAR’s 50 years of innovations that changed the world 🌎 🎉: https://t.co…\n",
            "\n",
            "5) The technological transformation we need to address climate change can create good, safe jobs and build a more equitable, prosperous economy. To make that happen, we need to think big: https://t.co/jFWTPyaOAq https://t.co/PR5sxI7aDt\n",
            "\n"
          ],
          "name": "stdout"
        }
      ]
    },
    {
      "cell_type": "code",
      "metadata": {
        "id": "2-5U6COZlkYY"
      },
      "source": [
        "#Create a dataframe with a column called tweets\n",
        "df = pd.DataFrame([tweet.full_text for tweet in posts], columns=['Tweets'])"
      ],
      "execution_count": 53,
      "outputs": []
    },
    {
      "cell_type": "code",
      "metadata": {
        "colab": {
          "base_uri": "https://localhost:8080/",
          "height": 204
        },
        "id": "KCCaUoyEnxG_",
        "outputId": "2bc3d9f2-17fd-4a5e-94d4-894b2063a7ee"
      },
      "source": [
        "#.head is a function that prints the first 5 rows of a dataframe\n",
        "df.head()"
      ],
      "execution_count": 54,
      "outputs": [
        {
          "output_type": "execute_result",
          "data": {
            "text/html": [
              "<div>\n",
              "<style scoped>\n",
              "    .dataframe tbody tr th:only-of-type {\n",
              "        vertical-align: middle;\n",
              "    }\n",
              "\n",
              "    .dataframe tbody tr th {\n",
              "        vertical-align: top;\n",
              "    }\n",
              "\n",
              "    .dataframe thead th {\n",
              "        text-align: right;\n",
              "    }\n",
              "</style>\n",
              "<table border=\"1\" class=\"dataframe\">\n",
              "  <thead>\n",
              "    <tr style=\"text-align: right;\">\n",
              "      <th></th>\n",
              "      <th>Tweets</th>\n",
              "    </tr>\n",
              "  </thead>\n",
              "  <tbody>\n",
              "    <tr>\n",
              "      <th>0</th>\n",
              "      <td>The best way to prevent new variants from emer...</td>\n",
              "    </tr>\n",
              "    <tr>\n",
              "      <th>1</th>\n",
              "      <td>It's encouraging to see innovation and clean e...</td>\n",
              "    </tr>\n",
              "    <tr>\n",
              "      <th>2</th>\n",
              "      <td>Here are five things you should know if you wa...</td>\n",
              "    </tr>\n",
              "    <tr>\n",
              "      <th>3</th>\n",
              "      <td>RT @IFPRI: 💡 From #climateadaptation to #gende...</td>\n",
              "    </tr>\n",
              "    <tr>\n",
              "      <th>4</th>\n",
              "      <td>The technological transformation we need to ad...</td>\n",
              "    </tr>\n",
              "  </tbody>\n",
              "</table>\n",
              "</div>"
            ],
            "text/plain": [
              "                                              Tweets\n",
              "0  The best way to prevent new variants from emer...\n",
              "1  It's encouraging to see innovation and clean e...\n",
              "2  Here are five things you should know if you wa...\n",
              "3  RT @IFPRI: 💡 From #climateadaptation to #gende...\n",
              "4  The technological transformation we need to ad..."
            ]
          },
          "metadata": {
            "tags": []
          },
          "execution_count": 54
        }
      ]
    },
    {
      "cell_type": "code",
      "metadata": {
        "colab": {
          "base_uri": "https://localhost:8080/",
          "height": 419
        },
        "id": "52-fUx1Xn7Wg",
        "outputId": "04e11bc0-93a6-4453-fc4f-d47f8afca058"
      },
      "source": [
        "#Clean the text with a defined function\n",
        "def cleanTxt(text):\n",
        "  text = re.sub(r'@[A-Za-z0-9]+',\"\", text) #Remove @ mentions\n",
        "  text = re.sub(r'#',\"\",text) #Removing all # symbol\n",
        "  text = re.sub(r'RT[\\s]+',\"\", text) # Removing the RT\n",
        "  text = re.sub(r'https?:\\/\\/\\S+',\"\",text) #Remove the hyper link\n",
        "\n",
        "  return text\n",
        "\n",
        "df['Tweets']=df['Tweets'].apply(cleanTxt)\n",
        "\n",
        "#Show cleaned text\n",
        "\n",
        "df\n"
      ],
      "execution_count": 49,
      "outputs": [
        {
          "output_type": "execute_result",
          "data": {
            "text/html": [
              "<div>\n",
              "<style scoped>\n",
              "    .dataframe tbody tr th:only-of-type {\n",
              "        vertical-align: middle;\n",
              "    }\n",
              "\n",
              "    .dataframe tbody tr th {\n",
              "        vertical-align: top;\n",
              "    }\n",
              "\n",
              "    .dataframe thead th {\n",
              "        text-align: right;\n",
              "    }\n",
              "</style>\n",
              "<table border=\"1\" class=\"dataframe\">\n",
              "  <thead>\n",
              "    <tr style=\"text-align: right;\">\n",
              "      <th></th>\n",
              "      <th>Tweets</th>\n",
              "    </tr>\n",
              "  </thead>\n",
              "  <tbody>\n",
              "    <tr>\n",
              "      <th>0</th>\n",
              "      <td>ÚLTIMAS NOTICIAS DE  -</td>\n",
              "    </tr>\n",
              "    <tr>\n",
              "      <th>1</th>\n",
              "      <td>Un aplauso para el portero.</td>\n",
              "    </tr>\n",
              "    <tr>\n",
              "      <th>2</th>\n",
              "      <td>Otra vacuna autorizada en Panamá.</td>\n",
              "    </tr>\n",
              "    <tr>\n",
              "      <th>3</th>\n",
              "      <td>¿Estado laico para cuándo?</td>\n",
              "    </tr>\n",
              "    <tr>\n",
              "      <th>4</th>\n",
              "      <td>El estado le ha fallado.</td>\n",
              "    </tr>\n",
              "    <tr>\n",
              "      <th>...</th>\n",
              "      <td>...</td>\n",
              "    </tr>\n",
              "    <tr>\n",
              "      <th>95</th>\n",
              "      <td>Dicen que en una institución de seguridad hay ...</td>\n",
              "    </tr>\n",
              "    <tr>\n",
              "      <th>96</th>\n",
              "      <td>Ya empezamos mal...</td>\n",
              "    </tr>\n",
              "    <tr>\n",
              "      <th>97</th>\n",
              "      <td>Tras un trayecto de 15 minutos en canoa, la pr...</td>\n",
              "    </tr>\n",
              "    <tr>\n",
              "      <th>98</th>\n",
              "      <td>Nito se impuso ante Crispiano por un pelo.</td>\n",
              "    </tr>\n",
              "    <tr>\n",
              "      <th>99</th>\n",
              "      <td>Así describe Nito a Gaby Carrizo durante entre...</td>\n",
              "    </tr>\n",
              "  </tbody>\n",
              "</table>\n",
              "<p>100 rows × 1 columns</p>\n",
              "</div>"
            ],
            "text/plain": [
              "                                               Tweets\n",
              "0                             ÚLTIMAS NOTICIAS DE  - \n",
              "1                        Un aplauso para el portero. \n",
              "2                  Otra vacuna autorizada en Panamá. \n",
              "3                         ¿Estado laico para cuándo? \n",
              "4                           El estado le ha fallado. \n",
              "..                                                ...\n",
              "95  Dicen que en una institución de seguridad hay ...\n",
              "96                               Ya empezamos mal... \n",
              "97  Tras un trayecto de 15 minutos en canoa, la pr...\n",
              "98        Nito se impuso ante Crispiano por un pelo. \n",
              "99  Así describe Nito a Gaby Carrizo durante entre...\n",
              "\n",
              "[100 rows x 1 columns]"
            ]
          },
          "metadata": {
            "tags": []
          },
          "execution_count": 49
        }
      ]
    },
    {
      "cell_type": "code",
      "metadata": {
        "colab": {
          "base_uri": "https://localhost:8080/",
          "height": 419
        },
        "id": "-7gK2K1BrnDO",
        "outputId": "6fad54a0-4505-4bcc-c222-c2e2003da71d"
      },
      "source": [
        "# Create a function to get the subjectivity\n",
        "\n",
        "def getSubjectivity(text):\n",
        "  return TextBlob(text).sentiment.subjectivity\n",
        "\n",
        "def getPolarity(text):\n",
        "  return TextBlob(text).sentiment.polarity\n",
        "\n",
        "# Lets create 2 new columns to our data frame\n",
        "\n",
        "df['Subjectivity'] = df['Tweets'].apply(getSubjectivity)\n",
        "df['Polarity'] = df['Tweets'].apply(getPolarity)\n",
        "\n",
        "# Show the new dataframe with the new columns\n",
        "df\n"
      ],
      "execution_count": 55,
      "outputs": [
        {
          "output_type": "execute_result",
          "data": {
            "text/html": [
              "<div>\n",
              "<style scoped>\n",
              "    .dataframe tbody tr th:only-of-type {\n",
              "        vertical-align: middle;\n",
              "    }\n",
              "\n",
              "    .dataframe tbody tr th {\n",
              "        vertical-align: top;\n",
              "    }\n",
              "\n",
              "    .dataframe thead th {\n",
              "        text-align: right;\n",
              "    }\n",
              "</style>\n",
              "<table border=\"1\" class=\"dataframe\">\n",
              "  <thead>\n",
              "    <tr style=\"text-align: right;\">\n",
              "      <th></th>\n",
              "      <th>Tweets</th>\n",
              "      <th>Subjectivity</th>\n",
              "      <th>Polarity</th>\n",
              "    </tr>\n",
              "  </thead>\n",
              "  <tbody>\n",
              "    <tr>\n",
              "      <th>0</th>\n",
              "      <td>The best way to prevent new variants from emer...</td>\n",
              "      <td>0.377273</td>\n",
              "      <td>0.568182</td>\n",
              "    </tr>\n",
              "    <tr>\n",
              "      <th>1</th>\n",
              "      <td>It's encouraging to see innovation and clean e...</td>\n",
              "      <td>0.584848</td>\n",
              "      <td>0.401010</td>\n",
              "    </tr>\n",
              "    <tr>\n",
              "      <th>2</th>\n",
              "      <td>Here are five things you should know if you wa...</td>\n",
              "      <td>0.000000</td>\n",
              "      <td>0.000000</td>\n",
              "    </tr>\n",
              "    <tr>\n",
              "      <th>3</th>\n",
              "      <td>RT @IFPRI: 💡 From #climateadaptation to #gende...</td>\n",
              "      <td>0.000000</td>\n",
              "      <td>0.000000</td>\n",
              "    </tr>\n",
              "    <tr>\n",
              "      <th>4</th>\n",
              "      <td>The technological transformation we need to ad...</td>\n",
              "      <td>0.425000</td>\n",
              "      <td>0.425000</td>\n",
              "    </tr>\n",
              "    <tr>\n",
              "      <th>...</th>\n",
              "      <td>...</td>\n",
              "      <td>...</td>\n",
              "      <td>...</td>\n",
              "    </tr>\n",
              "    <tr>\n",
              "      <th>95</th>\n",
              "      <td>To reduce duplication, focus the government’s ...</td>\n",
              "      <td>0.477273</td>\n",
              "      <td>0.318182</td>\n",
              "    </tr>\n",
              "    <tr>\n",
              "      <th>96</th>\n",
              "      <td>We need to revolutionize the world’s physical ...</td>\n",
              "      <td>0.372619</td>\n",
              "      <td>-0.186111</td>\n",
              "    </tr>\n",
              "    <tr>\n",
              "      <th>97</th>\n",
              "      <td>This the most important thing the U.S. can do ...</td>\n",
              "      <td>0.750000</td>\n",
              "      <td>0.450000</td>\n",
              "    </tr>\n",
              "    <tr>\n",
              "      <th>98</th>\n",
              "      <td>I’m inspired by Quarraisha Abdool Karim and @P...</td>\n",
              "      <td>0.500000</td>\n",
              "      <td>0.500000</td>\n",
              "    </tr>\n",
              "    <tr>\n",
              "      <th>99</th>\n",
              "      <td>RT @melindagates: My parents taught me to leav...</td>\n",
              "      <td>0.500000</td>\n",
              "      <td>0.500000</td>\n",
              "    </tr>\n",
              "  </tbody>\n",
              "</table>\n",
              "<p>100 rows × 3 columns</p>\n",
              "</div>"
            ],
            "text/plain": [
              "                                               Tweets  Subjectivity  Polarity\n",
              "0   The best way to prevent new variants from emer...      0.377273  0.568182\n",
              "1   It's encouraging to see innovation and clean e...      0.584848  0.401010\n",
              "2   Here are five things you should know if you wa...      0.000000  0.000000\n",
              "3   RT @IFPRI: 💡 From #climateadaptation to #gende...      0.000000  0.000000\n",
              "4   The technological transformation we need to ad...      0.425000  0.425000\n",
              "..                                                ...           ...       ...\n",
              "95  To reduce duplication, focus the government’s ...      0.477273  0.318182\n",
              "96  We need to revolutionize the world’s physical ...      0.372619 -0.186111\n",
              "97  This the most important thing the U.S. can do ...      0.750000  0.450000\n",
              "98  I’m inspired by Quarraisha Abdool Karim and @P...      0.500000  0.500000\n",
              "99  RT @melindagates: My parents taught me to leav...      0.500000  0.500000\n",
              "\n",
              "[100 rows x 3 columns]"
            ]
          },
          "metadata": {
            "tags": []
          },
          "execution_count": 55
        }
      ]
    },
    {
      "cell_type": "markdown",
      "metadata": {
        "id": "JqqJXazBs47P"
      },
      "source": [
        "# Wordclouds\n",
        "\n",
        "Now that we have a good dataset we would want to see how well the sentiments are distributed. A good way to understand this is to use a wordcloud seen how common words are repeated."
      ]
    },
    {
      "cell_type": "code",
      "metadata": {
        "colab": {
          "base_uri": "https://localhost:8080/",
          "height": 264
        },
        "id": "O25OlV7rtTxW",
        "outputId": "fd69e3d3-d590-4140-add2-f6e15bd6591c"
      },
      "source": [
        "# Plot The Word Cloud\n",
        "allWords = ' '.join([tweet for tweet in df['Tweets']])\n",
        "wordCloud = WordCloud(width=300, height=300, random_state = 21, max_font_size = 119).generate(allWords)\n",
        "\n",
        "plt.imshow(wordCloud, interpolation = 'bilinear')\n",
        "plt.axis('off')\n",
        "plt.show()"
      ],
      "execution_count": 56,
      "outputs": [
        {
          "output_type": "display_data",
          "data": {
            "image/png": "[encoded data removed]",
            "text/plain": [
              "<Figure size 432x288 with 1 Axes>"
            ]
          },
          "metadata": {
            "tags": []
          }
        }
      ]
    },
    {
      "cell_type": "code",
      "metadata": {
        "colab": {
          "base_uri": "https://localhost:8080/",
          "height": 419
        },
        "id": "ItDOSfIeuKDU",
        "outputId": "59c74339-63e9-4d54-8099-d0557732f0c4"
      },
      "source": [
        "# Create a function to compute the negative, neutral and positive analysis\n",
        "def getAnalysis(score):\n",
        "  if score < 0:\n",
        "    return 'Negative'\n",
        "  elif score == 0 :\n",
        "    return 'Neutral'\n",
        "  else:\n",
        "    return 'Positive'\n",
        "\n",
        "df['Analysis']= df['Polarity'].apply(getAnalysis)\n",
        "\n",
        "# Show the dataframe\n",
        "df"
      ],
      "execution_count": 57,
      "outputs": [
        {
          "output_type": "execute_result",
          "data": {
            "text/html": [
              "<div>\n",
              "<style scoped>\n",
              "    .dataframe tbody tr th:only-of-type {\n",
              "        vertical-align: middle;\n",
              "    }\n",
              "\n",
              "    .dataframe tbody tr th {\n",
              "        vertical-align: top;\n",
              "    }\n",
              "\n",
              "    .dataframe thead th {\n",
              "        text-align: right;\n",
              "    }\n",
              "</style>\n",
              "<table border=\"1\" class=\"dataframe\">\n",
              "  <thead>\n",
              "    <tr style=\"text-align: right;\">\n",
              "      <th></th>\n",
              "      <th>Tweets</th>\n",
              "      <th>Subjectivity</th>\n",
              "      <th>Polarity</th>\n",
              "      <th>Analysis</th>\n",
              "    </tr>\n",
              "  </thead>\n",
              "  <tbody>\n",
              "    <tr>\n",
              "      <th>0</th>\n",
              "      <td>The best way to prevent new variants from emer...</td>\n",
              "      <td>0.377273</td>\n",
              "      <td>0.568182</td>\n",
              "      <td>Positive</td>\n",
              "    </tr>\n",
              "    <tr>\n",
              "      <th>1</th>\n",
              "      <td>It's encouraging to see innovation and clean e...</td>\n",
              "      <td>0.584848</td>\n",
              "      <td>0.401010</td>\n",
              "      <td>Positive</td>\n",
              "    </tr>\n",
              "    <tr>\n",
              "      <th>2</th>\n",
              "      <td>Here are five things you should know if you wa...</td>\n",
              "      <td>0.000000</td>\n",
              "      <td>0.000000</td>\n",
              "      <td>Neutral</td>\n",
              "    </tr>\n",
              "    <tr>\n",
              "      <th>3</th>\n",
              "      <td>RT @IFPRI: 💡 From #climateadaptation to #gende...</td>\n",
              "      <td>0.000000</td>\n",
              "      <td>0.000000</td>\n",
              "      <td>Neutral</td>\n",
              "    </tr>\n",
              "    <tr>\n",
              "      <th>4</th>\n",
              "      <td>The technological transformation we need to ad...</td>\n",
              "      <td>0.425000</td>\n",
              "      <td>0.425000</td>\n",
              "      <td>Positive</td>\n",
              "    </tr>\n",
              "    <tr>\n",
              "      <th>...</th>\n",
              "      <td>...</td>\n",
              "      <td>...</td>\n",
              "      <td>...</td>\n",
              "      <td>...</td>\n",
              "    </tr>\n",
              "    <tr>\n",
              "      <th>95</th>\n",
              "      <td>To reduce duplication, focus the government’s ...</td>\n",
              "      <td>0.477273</td>\n",
              "      <td>0.318182</td>\n",
              "      <td>Positive</td>\n",
              "    </tr>\n",
              "    <tr>\n",
              "      <th>96</th>\n",
              "      <td>We need to revolutionize the world’s physical ...</td>\n",
              "      <td>0.372619</td>\n",
              "      <td>-0.186111</td>\n",
              "      <td>Negative</td>\n",
              "    </tr>\n",
              "    <tr>\n",
              "      <th>97</th>\n",
              "      <td>This the most important thing the U.S. can do ...</td>\n",
              "      <td>0.750000</td>\n",
              "      <td>0.450000</td>\n",
              "      <td>Positive</td>\n",
              "    </tr>\n",
              "    <tr>\n",
              "      <th>98</th>\n",
              "      <td>I’m inspired by Quarraisha Abdool Karim and @P...</td>\n",
              "      <td>0.500000</td>\n",
              "      <td>0.500000</td>\n",
              "      <td>Positive</td>\n",
              "    </tr>\n",
              "    <tr>\n",
              "      <th>99</th>\n",
              "      <td>RT @melindagates: My parents taught me to leav...</td>\n",
              "      <td>0.500000</td>\n",
              "      <td>0.500000</td>\n",
              "      <td>Positive</td>\n",
              "    </tr>\n",
              "  </tbody>\n",
              "</table>\n",
              "<p>100 rows × 4 columns</p>\n",
              "</div>"
            ],
            "text/plain": [
              "                                               Tweets  ...  Analysis\n",
              "0   The best way to prevent new variants from emer...  ...  Positive\n",
              "1   It's encouraging to see innovation and clean e...  ...  Positive\n",
              "2   Here are five things you should know if you wa...  ...   Neutral\n",
              "3   RT @IFPRI: 💡 From #climateadaptation to #gende...  ...   Neutral\n",
              "4   The technological transformation we need to ad...  ...  Positive\n",
              "..                                                ...  ...       ...\n",
              "95  To reduce duplication, focus the government’s ...  ...  Positive\n",
              "96  We need to revolutionize the world’s physical ...  ...  Negative\n",
              "97  This the most important thing the U.S. can do ...  ...  Positive\n",
              "98  I’m inspired by Quarraisha Abdool Karim and @P...  ...  Positive\n",
              "99  RT @melindagates: My parents taught me to leav...  ...  Positive\n",
              "\n",
              "[100 rows x 4 columns]"
            ]
          },
          "metadata": {
            "tags": []
          },
          "execution_count": 57
        }
      ]
    },
    {
      "cell_type": "code",
      "metadata": {
        "id": "Yz4qlC7fxgEl"
      },
      "source": [
        ""
      ],
      "execution_count": null,
      "outputs": []
    }
  ]
}