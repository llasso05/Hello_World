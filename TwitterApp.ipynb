{
  "nbformat": 4,
  "nbformat_minor": 0,
  "metadata": {
    "colab": {
      "name": "TwitterApp",
      "provenance": [],
      "authorship_tag": "ABX9TyPr+JP3eprtvoHyjQvcKiHW",
      "include_colab_link": true
    },
    "kernelspec": {
      "name": "python3",
      "display_name": "Python 3"
    },
    "language_info": {
      "name": "python"
    }
  },
  "cells": [
    {
      "cell_type": "markdown",
      "metadata": {
        "id": "view-in-github",
        "colab_type": "text"
      },
      "source": [
        "<a href=\"https://colab.research.google.com/github/llasso05/Hello_World/blob/main/TwitterApp.ipynb\" target=\"_parent\"><img src=\"https://colab.research.google.com/assets/colab-badge.svg\" alt=\"Open In Colab\"/></a>"
      ]
    },
    {
      "cell_type": "markdown",
      "metadata": {
        "id": "JvuVndM6YR1M"
      },
      "source": [
        "#Twitter Sentiment Analysis\n",
        "\n",
        "Twitter is an American microblogging and social networking service on which users post and interact with messages known as \"tweets\". Registered users can post, like and retweet tweets, but unregistered users can only read them. Users access Twitter through its website interface or its mobile-device application software (\"app\"), though the service could also be accessed via SMS before April 2020. Twitter, Inc. is based in San Francisco, California, and has more than 25 offices around the world.Tweets were originally restricted to 140 characters, but was doubled to 280 for non-CJK languages in November 2017.\n",
        "\n",
        "Twitter boasts 330 million monthly active users, which allows businesses to reach a broad audience and connect with customers without intermediaries. On the downside, there’s so much information that it’s hard for brands to quickly detect negative social mentions that could harm their business.\n",
        "\n",
        "That's why sentiment analysis, which involves monitoring emotions in conversations on social media platforms, has become a key strategy in social media marketing."
      ]
    },
    {
      "cell_type": "code",
      "metadata": {
        "id": "1qCCs_ljYyEC"
      },
      "source": [
        "#importing libraries\n",
        "import tweepy\n",
        "from textblob import TextBlob\n",
        "from wordcloud import WordCloud\n",
        "import pandas as pd\n",
        "import numpy as np\n",
        "import re\n",
        "import matplotlib.pyplot as plt\n",
        "plt.style.use('fivethirtyeight')"
      ],
      "execution_count": 1,
      "outputs": []
    },
    {
      "cell_type": "markdown",
      "metadata": {
        "id": "6C3r8IgXh9yD"
      },
      "source": [
        "#Twitter Developer Account Access \n",
        "To get access to a twitter developer account you'll need to request access to twitter developers through link https://developer.twitter.com/en/apply-for-access . Be very specific with your request and send sample links with the examples of your intentions."
      ]
    },
    {
      "cell_type": "code",
      "metadata": {
        "id": "e09JcxJteSMT"
      },
      "source": [
        "# Authentication\n",
        "consumerKey = '35W9VaMCjZB6sr2HeliklQ7ME'\n",
        "consumerSecret = '4aYLWKsT1x0Hu1vNE6fL75rIFP0ApwRM3QmkWpMDMwBCEqFzje'\n",
        "bearerToken = 'AAAAAAAAAAAAAAAAAAAAAIL4NgEAAAAA6Tz8K3E7Q%2B%2Fpwt4arAJKWXMtU14%3Dsr6UE3jgnDz4CTB4BiSyt1zisFhdWaQ66ugucYRfqseTOMmz6e'\n",
        "accessToken = '1370879432710311942-uGzGBdXivgwpVhbBHYXNmqMVjCShbY'\n",
        "accessTokenSecret = 'OoN2DLa8f7IHRFPFl2oEvMhNljmc9REP8Ae4iLn5CLVwW'\n"
      ],
      "execution_count": 2,
      "outputs": []
    },
    {
      "cell_type": "markdown",
      "metadata": {
        "id": "7XEg1tF5jRbf"
      },
      "source": [
        "#Python Try Except\n",
        "The try block lets you test a block of code for errors.\n",
        "\n",
        "The except block lets you handle el error.\n",
        "\n",
        "The finally block lets you execute code, regardless of the result of the try and except blocks\n",
        "\n"
      ]
    },
    {
      "cell_type": "code",
      "metadata": {
        "id": "0U4fDirMeWRl"
      },
      "source": [
        "try:\n",
        "    auth = tweepy.OAuthHandler(consumerKey, consumerSecret)\n",
        "    auth.set_access_token(accessToken, accessTokenSecret)\n",
        "    api = tweepy.API(auth)\n",
        "except:\n",
        "    print('Error: Authentication Failed')"
      ],
      "execution_count": 3,
      "outputs": []
    },
    {
      "cell_type": "code",
      "metadata": {
        "colab": {
          "base_uri": "https://localhost:8080/"
        },
        "id": "RiUcUT5VkaN9",
        "outputId": "8c2a1832-4011-464a-87d9-39441c806263"
      },
      "source": [
        "# Extract 100 tweets from the twitter user\n",
        "posts = api.user_timeline(screen_name = \"BillGates\", count=100, lang=\"en\", tweet_mode= \"extended\")\n",
        "\n",
        "print(\"Show the 5 recent tweets: \\n\")\n",
        "i = 1\n",
        "for tweet in posts[0:5]:\n",
        "  print(str(i)+ ') '+ tweet.full_text+\"\\n\")\n",
        "  i=i+1"
      ],
      "execution_count": 4,
      "outputs": [
        {
          "output_type": "stream",
          "text": [
            "Show the 5 recent tweets: \n",
            "\n",
            "1) The best way to prevent new variants from emerging is by stopping transmission of the virus altogether: https://t.co/KhJoM3LBmr https://t.co/5Vhfsjew3D\n",
            "\n",
            "2) It's encouraging to see innovation and clean energy investments at the forefront of @POTUS's #AmericanJobsPlan. Building markets for new energy technologies is good for jobs today and will build the economies we need while avoiding a climate disaster. https://t.co/V6GcPSiaH8\n",
            "\n",
            "3) Here are five things you should know if you want to understand how variants are (and aren’t) complicating the pandemic. https://t.co/rANiDcZynJ\n",
            "\n",
            "4) RT @IFPRI: 💡 From #climateadaptation to #genderequality, discover @CGIAR’s 50 years of innovations that changed the world 🌎 🎉: https://t.co…\n",
            "\n",
            "5) The technological transformation we need to address climate change can create good, safe jobs and build a more equitable, prosperous economy. To make that happen, we need to think big: https://t.co/jFWTPyaOAq https://t.co/PR5sxI7aDt\n",
            "\n"
          ],
          "name": "stdout"
        }
      ]
    },
    {
      "cell_type": "code",
      "metadata": {
        "id": "2-5U6COZlkYY"
      },
      "source": [
        "#Create a dataframe with a column called tweets\n",
        "df = pd.DataFrame([tweet.full_text for tweet in posts], columns=['Tweets'])"
      ],
      "execution_count": 5,
      "outputs": []
    },
    {
      "cell_type": "code",
      "metadata": {
        "colab": {
          "base_uri": "https://localhost:8080/",
          "height": 195
        },
        "id": "KCCaUoyEnxG_",
        "outputId": "7c444c50-91d5-4d31-ad7a-f17c64bcfaf8"
      },
      "source": [
        "#.head is a function that prints the first 5 rows of a dataframe\n",
        "df.head()"
      ],
      "execution_count": 6,
      "outputs": [
        {
          "output_type": "execute_result",
          "data": {
            "text/html": [
              "<div>\n",
              "<style scoped>\n",
              "    .dataframe tbody tr th:only-of-type {\n",
              "        vertical-align: middle;\n",
              "    }\n",
              "\n",
              "    .dataframe tbody tr th {\n",
              "        vertical-align: top;\n",
              "    }\n",
              "\n",
              "    .dataframe thead th {\n",
              "        text-align: right;\n",
              "    }\n",
              "</style>\n",
              "<table border=\"1\" class=\"dataframe\">\n",
              "  <thead>\n",
              "    <tr style=\"text-align: right;\">\n",
              "      <th></th>\n",
              "      <th>Tweets</th>\n",
              "    </tr>\n",
              "  </thead>\n",
              "  <tbody>\n",
              "    <tr>\n",
              "      <th>0</th>\n",
              "      <td>The best way to prevent new variants from emer...</td>\n",
              "    </tr>\n",
              "    <tr>\n",
              "      <th>1</th>\n",
              "      <td>It's encouraging to see innovation and clean e...</td>\n",
              "    </tr>\n",
              "    <tr>\n",
              "      <th>2</th>\n",
              "      <td>Here are five things you should know if you wa...</td>\n",
              "    </tr>\n",
              "    <tr>\n",
              "      <th>3</th>\n",
              "      <td>RT @IFPRI: 💡 From #climateadaptation to #gende...</td>\n",
              "    </tr>\n",
              "    <tr>\n",
              "      <th>4</th>\n",
              "      <td>The technological transformation we need to ad...</td>\n",
              "    </tr>\n",
              "  </tbody>\n",
              "</table>\n",
              "</div>"
            ],
            "text/plain": [
              "                                              Tweets\n",
              "0  The best way to prevent new variants from emer...\n",
              "1  It's encouraging to see innovation and clean e...\n",
              "2  Here are five things you should know if you wa...\n",
              "3  RT @IFPRI: 💡 From #climateadaptation to #gende...\n",
              "4  The technological transformation we need to ad..."
            ]
          },
          "metadata": {
            "tags": []
          },
          "execution_count": 6
        }
      ]
    },
    {
      "cell_type": "code",
      "metadata": {
        "colab": {
          "base_uri": "https://localhost:8080/",
          "height": 402
        },
        "id": "52-fUx1Xn7Wg",
        "outputId": "b189bc12-5d73-4667-cfa5-669d53dc9a4b"
      },
      "source": [
        "#Clean the text with a defined function\n",
        "def cleanTxt(text):\n",
        "  text = re.sub(r'@[A-Za-z0-9]+',\"\", text) #Remove @ mentions\n",
        "  text = re.sub(r'#',\"\",text) #Removing all # symbol\n",
        "  text = re.sub(r'RT[\\s]+',\"\", text) # Removing the RT\n",
        "  text = re.sub(r'https?:\\/\\/\\S+',\"\",text) #Remove the hyper link\n",
        "\n",
        "  return text\n",
        "\n",
        "df['Tweets']=df['Tweets'].apply(cleanTxt)\n",
        "\n",
        "#Show cleaned text\n",
        "\n",
        "df\n"
      ],
      "execution_count": 7,
      "outputs": [
        {
          "output_type": "execute_result",
          "data": {
            "text/html": [
              "<div>\n",
              "<style scoped>\n",
              "    .dataframe tbody tr th:only-of-type {\n",
              "        vertical-align: middle;\n",
              "    }\n",
              "\n",
              "    .dataframe tbody tr th {\n",
              "        vertical-align: top;\n",
              "    }\n",
              "\n",
              "    .dataframe thead th {\n",
              "        text-align: right;\n",
              "    }\n",
              "</style>\n",
              "<table border=\"1\" class=\"dataframe\">\n",
              "  <thead>\n",
              "    <tr style=\"text-align: right;\">\n",
              "      <th></th>\n",
              "      <th>Tweets</th>\n",
              "    </tr>\n",
              "  </thead>\n",
              "  <tbody>\n",
              "    <tr>\n",
              "      <th>0</th>\n",
              "      <td>The best way to prevent new variants from emer...</td>\n",
              "    </tr>\n",
              "    <tr>\n",
              "      <th>1</th>\n",
              "      <td>It's encouraging to see innovation and clean e...</td>\n",
              "    </tr>\n",
              "    <tr>\n",
              "      <th>2</th>\n",
              "      <td>Here are five things you should know if you wa...</td>\n",
              "    </tr>\n",
              "    <tr>\n",
              "      <th>3</th>\n",
              "      <td>: 💡 From climateadaptation to genderequality, ...</td>\n",
              "    </tr>\n",
              "    <tr>\n",
              "      <th>4</th>\n",
              "      <td>The technological transformation we need to ad...</td>\n",
              "    </tr>\n",
              "    <tr>\n",
              "      <th>...</th>\n",
              "      <td>...</td>\n",
              "    </tr>\n",
              "    <tr>\n",
              "      <th>95</th>\n",
              "      <td>To reduce duplication, focus the government’s ...</td>\n",
              "    </tr>\n",
              "    <tr>\n",
              "      <th>96</th>\n",
              "      <td>We need to revolutionize the world’s physical ...</td>\n",
              "    </tr>\n",
              "    <tr>\n",
              "      <th>97</th>\n",
              "      <td>This the most important thing the U.S. can do ...</td>\n",
              "    </tr>\n",
              "    <tr>\n",
              "      <th>98</th>\n",
              "      <td>I’m inspired by Quarraisha Abdool Karim and . ...</td>\n",
              "    </tr>\n",
              "    <tr>\n",
              "      <th>99</th>\n",
              "      <td>: My parents taught me to leave the world bett...</td>\n",
              "    </tr>\n",
              "  </tbody>\n",
              "</table>\n",
              "<p>100 rows × 1 columns</p>\n",
              "</div>"
            ],
            "text/plain": [
              "                                               Tweets\n",
              "0   The best way to prevent new variants from emer...\n",
              "1   It's encouraging to see innovation and clean e...\n",
              "2   Here are five things you should know if you wa...\n",
              "3   : 💡 From climateadaptation to genderequality, ...\n",
              "4   The technological transformation we need to ad...\n",
              "..                                                ...\n",
              "95  To reduce duplication, focus the government’s ...\n",
              "96  We need to revolutionize the world’s physical ...\n",
              "97  This the most important thing the U.S. can do ...\n",
              "98  I’m inspired by Quarraisha Abdool Karim and . ...\n",
              "99  : My parents taught me to leave the world bett...\n",
              "\n",
              "[100 rows x 1 columns]"
            ]
          },
          "metadata": {
            "tags": []
          },
          "execution_count": 7
        }
      ]
    },
    {
      "cell_type": "code",
      "metadata": {
        "colab": {
          "base_uri": "https://localhost:8080/",
          "height": 402
        },
        "id": "-7gK2K1BrnDO",
        "outputId": "a743549c-729d-4b98-b66a-d95de0ec4e0d"
      },
      "source": [
        "# Create a function to get the subjectivity\n",
        "\n",
        "def getSubjectivity(text):\n",
        "  return TextBlob(text).sentiment.subjectivity\n",
        "\n",
        "def getPolarity(text):\n",
        "  return TextBlob(text).sentiment.polarity\n",
        "\n",
        "# Lets create 2 new columns to our data frame\n",
        "\n",
        "df['Subjectivity'] = df['Tweets'].apply(getSubjectivity)\n",
        "df['Polarity'] = df['Tweets'].apply(getPolarity)\n",
        "\n",
        "# Show the new dataframe with the new columns\n",
        "df\n"
      ],
      "execution_count": 8,
      "outputs": [
        {
          "output_type": "execute_result",
          "data": {
            "text/html": [
              "<div>\n",
              "<style scoped>\n",
              "    .dataframe tbody tr th:only-of-type {\n",
              "        vertical-align: middle;\n",
              "    }\n",
              "\n",
              "    .dataframe tbody tr th {\n",
              "        vertical-align: top;\n",
              "    }\n",
              "\n",
              "    .dataframe thead th {\n",
              "        text-align: right;\n",
              "    }\n",
              "</style>\n",
              "<table border=\"1\" class=\"dataframe\">\n",
              "  <thead>\n",
              "    <tr style=\"text-align: right;\">\n",
              "      <th></th>\n",
              "      <th>Tweets</th>\n",
              "      <th>Subjectivity</th>\n",
              "      <th>Polarity</th>\n",
              "    </tr>\n",
              "  </thead>\n",
              "  <tbody>\n",
              "    <tr>\n",
              "      <th>0</th>\n",
              "      <td>The best way to prevent new variants from emer...</td>\n",
              "      <td>0.377273</td>\n",
              "      <td>0.568182</td>\n",
              "    </tr>\n",
              "    <tr>\n",
              "      <th>1</th>\n",
              "      <td>It's encouraging to see innovation and clean e...</td>\n",
              "      <td>0.584848</td>\n",
              "      <td>0.401010</td>\n",
              "    </tr>\n",
              "    <tr>\n",
              "      <th>2</th>\n",
              "      <td>Here are five things you should know if you wa...</td>\n",
              "      <td>0.000000</td>\n",
              "      <td>0.000000</td>\n",
              "    </tr>\n",
              "    <tr>\n",
              "      <th>3</th>\n",
              "      <td>: 💡 From climateadaptation to genderequality, ...</td>\n",
              "      <td>0.000000</td>\n",
              "      <td>0.000000</td>\n",
              "    </tr>\n",
              "    <tr>\n",
              "      <th>4</th>\n",
              "      <td>The technological transformation we need to ad...</td>\n",
              "      <td>0.425000</td>\n",
              "      <td>0.425000</td>\n",
              "    </tr>\n",
              "    <tr>\n",
              "      <th>...</th>\n",
              "      <td>...</td>\n",
              "      <td>...</td>\n",
              "      <td>...</td>\n",
              "    </tr>\n",
              "    <tr>\n",
              "      <th>95</th>\n",
              "      <td>To reduce duplication, focus the government’s ...</td>\n",
              "      <td>0.477273</td>\n",
              "      <td>0.318182</td>\n",
              "    </tr>\n",
              "    <tr>\n",
              "      <th>96</th>\n",
              "      <td>We need to revolutionize the world’s physical ...</td>\n",
              "      <td>0.372619</td>\n",
              "      <td>-0.186111</td>\n",
              "    </tr>\n",
              "    <tr>\n",
              "      <th>97</th>\n",
              "      <td>This the most important thing the U.S. can do ...</td>\n",
              "      <td>0.750000</td>\n",
              "      <td>0.450000</td>\n",
              "    </tr>\n",
              "    <tr>\n",
              "      <th>98</th>\n",
              "      <td>I’m inspired by Quarraisha Abdool Karim and . ...</td>\n",
              "      <td>0.500000</td>\n",
              "      <td>0.500000</td>\n",
              "    </tr>\n",
              "    <tr>\n",
              "      <th>99</th>\n",
              "      <td>: My parents taught me to leave the world bett...</td>\n",
              "      <td>0.500000</td>\n",
              "      <td>0.500000</td>\n",
              "    </tr>\n",
              "  </tbody>\n",
              "</table>\n",
              "<p>100 rows × 3 columns</p>\n",
              "</div>"
            ],
            "text/plain": [
              "                                               Tweets  Subjectivity  Polarity\n",
              "0   The best way to prevent new variants from emer...      0.377273  0.568182\n",
              "1   It's encouraging to see innovation and clean e...      0.584848  0.401010\n",
              "2   Here are five things you should know if you wa...      0.000000  0.000000\n",
              "3   : 💡 From climateadaptation to genderequality, ...      0.000000  0.000000\n",
              "4   The technological transformation we need to ad...      0.425000  0.425000\n",
              "..                                                ...           ...       ...\n",
              "95  To reduce duplication, focus the government’s ...      0.477273  0.318182\n",
              "96  We need to revolutionize the world’s physical ...      0.372619 -0.186111\n",
              "97  This the most important thing the U.S. can do ...      0.750000  0.450000\n",
              "98  I’m inspired by Quarraisha Abdool Karim and . ...      0.500000  0.500000\n",
              "99  : My parents taught me to leave the world bett...      0.500000  0.500000\n",
              "\n",
              "[100 rows x 3 columns]"
            ]
          },
          "metadata": {
            "tags": []
          },
          "execution_count": 8
        }
      ]
    },
    {
      "cell_type": "markdown",
      "metadata": {
        "id": "JqqJXazBs47P"
      },
      "source": [
        "# Wordclouds\n",
        "\n",
        "Now that we have a good dataset we would want to see how well the sentiments are distributed. A good way to understand this is to use a wordcloud seen how common words are repeated."
      ]
    },
    {
      "cell_type": "code",
      "metadata": {
        "colab": {
          "base_uri": "https://localhost:8080/",
          "height": 248
        },
        "id": "O25OlV7rtTxW",
        "outputId": "a1770e89-0d1e-4523-fd56-133926f7945f"
      },
      "source": [
        "# Plot The Word Cloud\n",
        "allWords = ' '.join([tweet for tweet in df['Tweets']])\n",
        "wordCloud = WordCloud(width=300, height=300, random_state = 21, max_font_size = 119).generate(allWords)\n",
        "\n",
        "plt.imshow(wordCloud, interpolation = 'bilinear')\n",
        "plt.axis('off')\n",
        "plt.show()"
      ],
      "execution_count": 9,
      "outputs": [
        {
          "output_type": "display_data",
          "data": {
            "image/png": "[encoded data removed]",
            "text/plain": [
              "<Figure size 432x288 with 1 Axes>"
            ]
          },
          "metadata": {
            "tags": [],
            "needs_background": "light"
          }
        }
      ]
    },
    {
      "cell_type": "code",
      "metadata": {
        "colab": {
          "base_uri": "https://localhost:8080/",
          "height": 402
        },
        "id": "ItDOSfIeuKDU",
        "outputId": "fb39e306-2c23-4633-c715-a6402ff0cafe"
      },
      "source": [
        "# Create a function to compute the negative, neutral and positive analysis\n",
        "def getAnalysis(score):\n",
        "  if score < 0:\n",
        "    return 'Negative'\n",
        "  elif score == 0 :\n",
        "    return 'Neutral'\n",
        "  else:\n",
        "    return 'Positive'\n",
        "\n",
        "df['Analysis']= df['Polarity'].apply(getAnalysis)\n",
        "\n",
        "# Show the dataframe\n",
        "df"
      ],
      "execution_count": 10,
      "outputs": [
        {
          "output_type": "execute_result",
          "data": {
            "text/html": [
              "<div>\n",
              "<style scoped>\n",
              "    .dataframe tbody tr th:only-of-type {\n",
              "        vertical-align: middle;\n",
              "    }\n",
              "\n",
              "    .dataframe tbody tr th {\n",
              "        vertical-align: top;\n",
              "    }\n",
              "\n",
              "    .dataframe thead th {\n",
              "        text-align: right;\n",
              "    }\n",
              "</style>\n",
              "<table border=\"1\" class=\"dataframe\">\n",
              "  <thead>\n",
              "    <tr style=\"text-align: right;\">\n",
              "      <th></th>\n",
              "      <th>Tweets</th>\n",
              "      <th>Subjectivity</th>\n",
              "      <th>Polarity</th>\n",
              "      <th>Analysis</th>\n",
              "    </tr>\n",
              "  </thead>\n",
              "  <tbody>\n",
              "    <tr>\n",
              "      <th>0</th>\n",
              "      <td>The best way to prevent new variants from emer...</td>\n",
              "      <td>0.377273</td>\n",
              "      <td>0.568182</td>\n",
              "      <td>Positive</td>\n",
              "    </tr>\n",
              "    <tr>\n",
              "      <th>1</th>\n",
              "      <td>It's encouraging to see innovation and clean e...</td>\n",
              "      <td>0.584848</td>\n",
              "      <td>0.401010</td>\n",
              "      <td>Positive</td>\n",
              "    </tr>\n",
              "    <tr>\n",
              "      <th>2</th>\n",
              "      <td>Here are five things you should know if you wa...</td>\n",
              "      <td>0.000000</td>\n",
              "      <td>0.000000</td>\n",
              "      <td>Neutral</td>\n",
              "    </tr>\n",
              "    <tr>\n",
              "      <th>3</th>\n",
              "      <td>: 💡 From climateadaptation to genderequality, ...</td>\n",
              "      <td>0.000000</td>\n",
              "      <td>0.000000</td>\n",
              "      <td>Neutral</td>\n",
              "    </tr>\n",
              "    <tr>\n",
              "      <th>4</th>\n",
              "      <td>The technological transformation we need to ad...</td>\n",
              "      <td>0.425000</td>\n",
              "      <td>0.425000</td>\n",
              "      <td>Positive</td>\n",
              "    </tr>\n",
              "    <tr>\n",
              "      <th>...</th>\n",
              "      <td>...</td>\n",
              "      <td>...</td>\n",
              "      <td>...</td>\n",
              "      <td>...</td>\n",
              "    </tr>\n",
              "    <tr>\n",
              "      <th>95</th>\n",
              "      <td>To reduce duplication, focus the government’s ...</td>\n",
              "      <td>0.477273</td>\n",
              "      <td>0.318182</td>\n",
              "      <td>Positive</td>\n",
              "    </tr>\n",
              "    <tr>\n",
              "      <th>96</th>\n",
              "      <td>We need to revolutionize the world’s physical ...</td>\n",
              "      <td>0.372619</td>\n",
              "      <td>-0.186111</td>\n",
              "      <td>Negative</td>\n",
              "    </tr>\n",
              "    <tr>\n",
              "      <th>97</th>\n",
              "      <td>This the most important thing the U.S. can do ...</td>\n",
              "      <td>0.750000</td>\n",
              "      <td>0.450000</td>\n",
              "      <td>Positive</td>\n",
              "    </tr>\n",
              "    <tr>\n",
              "      <th>98</th>\n",
              "      <td>I’m inspired by Quarraisha Abdool Karim and . ...</td>\n",
              "      <td>0.500000</td>\n",
              "      <td>0.500000</td>\n",
              "      <td>Positive</td>\n",
              "    </tr>\n",
              "    <tr>\n",
              "      <th>99</th>\n",
              "      <td>: My parents taught me to leave the world bett...</td>\n",
              "      <td>0.500000</td>\n",
              "      <td>0.500000</td>\n",
              "      <td>Positive</td>\n",
              "    </tr>\n",
              "  </tbody>\n",
              "</table>\n",
              "<p>100 rows × 4 columns</p>\n",
              "</div>"
            ],
            "text/plain": [
              "                                               Tweets  ...  Analysis\n",
              "0   The best way to prevent new variants from emer...  ...  Positive\n",
              "1   It's encouraging to see innovation and clean e...  ...  Positive\n",
              "2   Here are five things you should know if you wa...  ...   Neutral\n",
              "3   : 💡 From climateadaptation to genderequality, ...  ...   Neutral\n",
              "4   The technological transformation we need to ad...  ...  Positive\n",
              "..                                                ...  ...       ...\n",
              "95  To reduce duplication, focus the government’s ...  ...  Positive\n",
              "96  We need to revolutionize the world’s physical ...  ...  Negative\n",
              "97  This the most important thing the U.S. can do ...  ...  Positive\n",
              "98  I’m inspired by Quarraisha Abdool Karim and . ...  ...  Positive\n",
              "99  : My parents taught me to leave the world bett...  ...  Positive\n",
              "\n",
              "[100 rows x 4 columns]"
            ]
          },
          "metadata": {
            "tags": []
          },
          "execution_count": 10
        }
      ]
    },
    {
      "cell_type": "code",
      "metadata": {
        "id": "Yz4qlC7fxgEl",
        "colab": {
          "base_uri": "https://localhost:8080/"
        },
        "outputId": "b6ac5e1b-04bd-44ad-c3b1-367e1199494e"
      },
      "source": [
        "# Lets print all positive tweets\n",
        "j=1\n",
        "sortedDf = df.sort_values(by=['Polarity'])\n",
        "for i in range(0, sortedDf.shape[0]):\n",
        "               if(sortedDf['Analysis'][i] == 'Positive'):\n",
        "                 print(str(j)+') '+sortedDf['Tweets'][i])\n",
        "               print()\n",
        "               j = j+1\n",
        "               "
      ],
      "execution_count": 15,
      "outputs": [
        {
          "output_type": "stream",
          "text": [
            "1) The best way to prevent new variants from emerging is by stopping transmission of the virus altogether:  \n",
            "\n",
            "2) It's encouraging to see innovation and clean energy investments at the forefront of 's AmericanJobsPlan. Building markets for new energy technologies is good for jobs today and will build the economies we need while avoiding a climate disaster. \n",
            "\n",
            "\n",
            "\n",
            "5) The technological transformation we need to address climate change can create good, safe jobs and build a more equitable, prosperous economy. To make that happen, we need to think big:  \n",
            "\n",
            "6) I had a great time answering questions about my new book, climate change, and COVID-19 on  last week. Here’s a recap of the conversation. \n",
            "\n",
            "\n",
            "\n",
            "9) In this video, I answered some really good questions, including one about two really important numbers. Come ask me some questions of your own on  at 11:15:  \n",
            "\n",
            "\n",
            "\n",
            "\n",
            "13) I named my book “How to Avoid a Climate Disaster,” not “How to Stop Climate Change,” because our climate is already changing—and no one will be hurt more by climate change than the world’s poorest people. Here's how we can help them adapt. \n",
            "\n",
            "14) Congratulations  on this important role. I’m excited to see what you and the Earth Fund will achieve. Avoiding a climate disaster is going to take all of us, and I’m grateful for ’s leadership and partnership. \n",
            "\n",
            "15) Thank you  for a great conversation about climate change and thanks to  and  for hosting the event. \n",
            "\n",
            "\n",
            "\n",
            "18) Virologist Ruth Bishop pioneered the research that led to the discovery of rotavirus. Her legacy continues both as a role model for other researchers and in the millions of children’s lives that have been saved because of her heroic work:  IWD2021 \n",
            "\n",
            "19) : On International Women’s Day, join me in celebrating some of the inspiring women who made COVID19 vaccines possible. Know…\n",
            "\n",
            "20) Thank you  for the kind words. Your leadership at the 2015 Paris climate conference helped prove that global cooperation on climate is possible and gives me hope that we can reach our goal of zero emissions. \n",
            "\n",
            "\n",
            "\n",
            "23) Moving to a green economy is the biggest challenge the world has ever faced. I’m optimistic we can do it, but need to make sure it benefits everyone—including those workers and communities who depend on the fossil fuels that we need to get rid of. \n",
            "\n",
            "24) We can’t avoid a climate disaster without corporate leaders making courageous decisions now. I hope to work with  on building the markets for the clean technologies the world needs. Thank you for the kind words, Herbert. \n",
            "\n",
            "25) Delivering vaccines to those who need them most, no matter where they live or how much money they have, is the only way to end the pandemic and begin the recovery. This is an important milestone. \n",
            "\n",
            "26) _H2020    To get to net zero, we need innovation to replace fossil fuels in everyday products like plastics.  is one of the many companies leading on this important work.\n",
            "\n",
            "27) We're fortunate to have an Energy Secretary who's focused on creating high-quality jobs to build a clean energy economy. I look forward to working with  on clean tech innovation and deployment. \n",
            "\n",
            "\n",
            "29) Thanks  and  for a great conversation about how we can avoid a climate disaster. \n",
            "\n",
            "30) I’m looking forward to joining  to talk about climate change, our foundation’s work in response to the pandemic, and more. \n",
            "\n",
            "31) It’s encouraging to have  John Kerry representing the U.S. to the world. Now that we've rejoined the Paris Climate Agreement, it's going to take ambitious action from U.S. leaders and those around the globe to avoid a climate disaster. \n",
            "\n",
            "\n",
            "33) Thanks  and  for having me on the show to talk about climate change and COVID-19 – two urgent global issues that need global collaboration. \n",
            "\n",
            "34)   I always have fun talking to . Thanks for inviting me to talk about climate change and my new book.\n",
            "\n",
            "35) : I’m grateful for new commitments from the EU, Germany, Canada, Japan, and the U.S. to help make safe and effective COVID-…\n",
            "\n",
            "36) I’m inspired by ’s activism and humanitarian work. Thanks to  and  for hosting our discussion about climate change and how everyone can help. \n",
            "\n",
            "37)  Thanks  for talking with me about this challenge and why we need to act now.\n",
            "\n",
            "38) Meaningful action from business leaders will require the courage to take risks that many companies aren't used to taking. \n",
            "\n",
            "39) Thanks to , , and everyone who joined our virtual conversation about climate change. Great to have so much support from my hometown for this important work. \n",
            "\n",
            "40) Great to see this important step as the United States resumes our global leadership on climate change. Looking forward to working with  and Congress on a plan to ensure we reach net zero by 2050. \n",
            "\n",
            "41) Thanks to  for hosting the launch of my virtual book tour. It was great to hear so many thoughtful questions about what we can all do to help avoid a climate disaster.\n",
            "\n",
            "42) : Bill Gates on Climate Change, Covid and Whether He Has Too Much Influence \n",
            "\n",
            "\n",
            "44) Thanks for inviting me on the podcast, . \n",
            "\n",
            "\n",
            "46) Thank you, _RDG. We have a lot of work ahead of us to reach net-zero emissions by 2050 and avoid a climate disaster. Your leadership of COP26 is critical. Thanks also to ,  and  for hosting the London stop of my virtual book tour! \n",
            "\n",
            "\n",
            "48) It was great to talk with  about my new book and the solutions we need to fight climate change. \n",
            "\n",
            "49)   Thank you  for inviting me to talk about climate change. Solving it won’t be easy, but I believe we can do it.\n",
            "\n",
            "50) Thanks for another great conversation ! \n",
            "\n",
            "\n",
            "\n",
            "53)  Thanks for inviting me to be a guest editor. We need every business leader and every industry to play a role in the fight against climate change.\n",
            "\n",
            "54) I had a great time working with  on this special digital issue about climate change. The entire business community has a role to play—and we need to start now. \n",
            "\n",
            "55) How to Avoid a Climate Disaster is available now. I hope you’ll check out the book, but more importantly, I hope you’ll do what you can to help keep the planet livable for generations to come:  \n",
            "\n",
            "56) : In a digital cover story, we talked to  about his new book, \"How to Avoid a Climate Disaster.\" \n",
            "\n",
            "\n",
            "58) To avoid a climate disaster, we need to eliminate emissions from the ways we create electricity, grow food, make things, move around, and heat and cool our buildings. It won’t be easy, but I believe we can do it. This book is about what it will take. \n",
            "\n",
            "59) I enjoyed spending time with  recently in Seattle. We talked about why I’m optimistic that the world can get to zero greenhouse gas emissions and avoid a climate disaster:  \n",
            "\n",
            "60) I’m thrilled to join , _RDG, , , , , ,  and Monica Padman, Sal Khan, and Ariel Bissett to discuss how the world can work to avoid a climate disaster:  \n",
            "\n",
            "\n",
            "\n",
            "\n",
            "64) When it comes to preventing pandemics, scientific tools alone aren’t enough. We also need new capabilities, including a global alert system and infectious disease first responders (or what I like to call a pandemic fire squad):  \n",
            "\n",
            "\n",
            "66) This has been a year unlike any other in our lifetimes. In our new Annual Letter, Melinda and I talk about how we can turn the hard-won lessons of the pandemic into a healthier, more equal future for all. \n",
            "\n",
            "67) : I believe that women can be the architects of a better world. \n",
            "\n",
            "Their stories have instilled in me both a sense of urgenc…\n",
            "\n",
            "\n",
            "69) One of the benefits of being 65 is that I’m eligible for the COVID-19 vaccine. I got my first dose this week, and I feel great. Thank you to all of the scientists, trial participants, regulators, and frontline healthcare workers who got us to this point. \n",
            "\n",
            "70) It’s great to see President Biden elevate science leadership to a cabinet-level position. Congratulations _lander. \n",
            "\n",
            "71) And while COVID-19 will rightfully continue to dominate the agenda, the United States also has the opportunity to lead the world in avoiding a climate disaster. The President is taking a great first step by rejoining the Paris Climate Accord.\n",
            "\n",
            "\n",
            "73) With Americans across the country working together, more people get a COVID-19 vaccine every day, bringing us closer to a time when life will look much more like normal. Until then, we can slow the spread of the virus and save lives by continuing to distance and wear masks.\n",
            "\n",
            "\n",
            "75) MLKDay has long been a national day of service. As we celebrate the first without Congressman John Lewis, I'm thinking about his powerful call to remain hopeful about the future as we work to make our country—and our world—a better place. \n",
            "\n",
            "76) It’s great to see India’s leadership in scientific innovation and vaccine manufacturing capability as the world works to end the COVID-19 pandemic  \n",
            "\n",
            "77) : The best emergency system is a strong primary health system—powered by community and frontline health workers. Now is t…\n",
            "\n",
            "78) What does Rashida Jones have on her shopping list? That’s just one of the many questions that didn’t make it into our podcast. You can listen to some of the big questions we did tackle here:  \n",
            "\n",
            "79) 2021 will be better than 2020. Here’s why: \n",
            "\n",
            "80) Standing up for science has never been more important. Congratulations to Dr. Anthony Fauci and Dr. Salim Abdool Karim on receiving this honor. \n",
            "\n",
            "81) I've known and learned from  for more than 40 years. I'm glad to see  team up with  to mentor and support companies working to create more economic empowerment opportunities for people across the world. \n",
            "\n",
            "82) This book has nothing to do with viruses or pandemics. But it is surprisingly relevant for these times.  provides a brilliant and gripping account of another era of widespread anxiety: the years 1940 and 1941. \n",
            "\n",
            "83) Monoclonal antibodies are one of the most promising treatments we have for COVID-19, thanks in large part to R&amp;D by Canadian scientists. Because of their generosity, people all around the world will have access to this potentially lifesaving treatment. \n",
            "\n",
            "84) : We’re looking for new ways to advance AlzheimersResearch. If you have an idea for tools, models, or algorithms that will expa…\n",
            "\n",
            "85) Like many people, I’ve tried to deepen my understanding of systemic racism in recent months. If you’re interested in learning more about the lives caught up in our country's justice system, I highly recommend  by Michelle Alexander. \n",
            "\n",
            "86) The season finale of our podcast features two incredible people who are using their positions as artists to change the world for the better. \n",
            "\n",
            "\n",
            "88) Thanks for the great conversation, Carlos. \n",
            "\n",
            "\n",
            "90) Bill Foege and Viktor Zdanov are phenomenal examples of what it means to harness science for global health. A well-deserved honor. \n",
            "\n",
            "91) Here are five books that I’d recommend as we wrap up 2020. I hope you find something that helps you—or the book lover in your life—finish the year on a good note. \n",
            "\n",
            "92) Are we actually making progress on climate change? Can we really prevent a climate disaster? In this week’s podcast, Rashida and I take on perhaps our biggest question yet with Pulitzer Prize-winning author . \n",
            "\n",
            "93) This new quiz from  is a clever way to fight misconceptions and “upgrade your worldview” about the incredible progress the world has made toward the Sustainable Development Goals to end poverty, fight inequality, and stop climate change: \n",
            "\n",
            "94) Rashida Jones and I talked to Yuval Noah Harari about COVID conspiracy theories, the role social media plays in spreading misinformation, and the one lie I choose to believe even though I know it’s not always true:  \n",
            "\n",
            "95) I believe we can avoid a climate disaster—if we deploy the clean-energy tools we have now wisely, and if we make big breakthroughs that touch every aspect of our physical economy. Creating the National Institutes of Energy Innovation would put us on the right path.\n",
            "\n",
            "96) To reduce duplication, focus the government’s efforts, and get the most innovation out of every dollar of funding, we should create a new organization: the National Institutes of Energy Innovation.\n",
            "\n",
            "\n",
            "98) This the most important thing the U.S. can do to lead the world in innovations that will solve climate change. \n",
            "\n",
            "99) I’m inspired by Quarraisha Abdool Karim and . They are two of the most respected HIV/AIDS researchers in the world. And now they are helping guide the COVID-19 response in South Africa and around the globe.  WorldAIDSDay\n",
            "\n",
            "100) : My parents taught me to leave the world better than I found it. \n",
            "\n",
            "So many people across the country believe in giving bac…\n",
            "\n"
          ],
          "name": "stdout"
        }
      ]
    },
    {
      "cell_type": "code",
      "metadata": {
        "colab": {
          "base_uri": "https://localhost:8080/"
        },
        "id": "icwhEv0FhbLZ",
        "outputId": "151e9da7-b404-4d62-fd5f-1ea45c473c02"
      },
      "source": [
        "# Lets print all Negative tweets\n",
        "j=1\n",
        "sortedDf = df.sort_values(by=['Polarity'])\n",
        "for i in range(0, sortedDf.shape[0]):\n",
        "               if(sortedDf['Analysis'][i] == 'Negative'):\n",
        "                 print(str(j)+') '+sortedDf['Tweets'][i])\n",
        "               print()\n",
        "               j = j+1\n",
        "               "
      ],
      "execution_count": 16,
      "outputs": [
        {
          "output_type": "stream",
          "text": [
            "\n",
            "\n",
            "\n",
            "\n",
            "\n",
            "\n",
            "\n",
            "\n",
            "\n",
            "\n",
            "11) It’s deeply unfair that the people who contribute the least to climate change will suffer the worst from its effects:  \n",
            "\n",
            "12) : Over the past few weeks health workers in Ethiopia 🇪🇹, Nigeria 🇳🇬, Sudan 🇸🇩 and the Philippines 🇵🇭 were vaccinated against COVI…\n",
            "\n",
            "\n",
            "\n",
            "\n",
            "16) For decades, Australian researcher Ruth Bishop led global efforts to identify and combat rotavirus. Her life is a reminder of the importance of scientific research to uncover unknown pathogens and the power of vaccines to prevent suffering and save lives. \n",
            "\n",
            "\n",
            "\n",
            "\n",
            "\n",
            "\n",
            "22) : Black folks have questions about the COVID-19 vaccine. I sat down w/ Black healthcare workers &amp; they answered my questions.…\n",
            "\n",
            "\n",
            "\n",
            "\n",
            "\n",
            "\n",
            "28) Recent extreme weather events are a stark reminder that we’re already seeing the effects of climate change here at home and around the world. This type of observation system will help scientists monitor and predict future weather events. \n",
            "\n",
            "\n",
            "\n",
            "\n",
            "32) There are several ways individuals can help move us closer to a zero-carbon future. Here are a few:  \n",
            "\n",
            "\n",
            "\n",
            "\n",
            "\n",
            "\n",
            "\n",
            "\n",
            "\n",
            "\n",
            "\n",
            "\n",
            "\n",
            "45) : The Weekly Planet: Lately, Bill Gates has been thinking about what he calls the “hard stuff” of climate change. These hard…\n",
            "\n",
            "\n",
            "\n",
            "\n",
            "\n",
            "\n",
            "\n",
            "52) : \"People who think a plan is easy are wrong. People who think a plan is impossible are wrong. It's super hard and very broad,…\n",
            "\n",
            "\n",
            "\n",
            "\n",
            "\n",
            "\n",
            "\n",
            "\n",
            "\n",
            "\n",
            "62) : Only 3% of Black students learn computer science in high school or beyond. Please watch and share this video. Inspire a studen…\n",
            "\n",
            "\n",
            "\n",
            "65) COVID-19 has cost lives, sickened millions, and thrust the global economy into a devastating recession. But hope is on the horizon:  \n",
            "\n",
            "\n",
            "\n",
            "68) Here are four other ways that America can advance its leadership on climate change this year and put the world on a path to zero emissions by 2050:  \n",
            "\n",
            "\n",
            "\n",
            "\n",
            "72) The President’s commitment to reengage with the world gives me hope that the recovery will reach everyone, including communities of color in the U.S. and people in poor countries around the world.\n",
            "\n",
            "\n",
            "\n",
            "\n",
            "\n",
            "\n",
            "\n",
            "\n",
            "\n",
            "\n",
            "\n",
            "\n",
            "\n",
            "\n",
            "\n",
            "\n",
            "\n",
            "\n",
            "\n",
            "\n",
            "\n",
            "\n",
            "\n",
            "\n",
            "\n",
            "97) We need to revolutionize the world’s physical economy—and that will take, among other things, a dramatic infusion of ingenuity, funding, and focus from the federal government.\n",
            "\n",
            "\n",
            "\n",
            "\n"
          ],
          "name": "stdout"
        }
      ]
    },
    {
      "cell_type": "code",
      "metadata": {
        "colab": {
          "base_uri": "https://localhost:8080/",
          "height": 405
        },
        "id": "yuIXDxUvijcf",
        "outputId": "7536d0b6-e259-410d-9cf5-d3c7b5004a03"
      },
      "source": [
        "# Plot the polarity and subjectivity\n",
        "plt.figure(figsize=(8,6))\n",
        "for i in range(0, df.shape[0]):\n",
        "  plt.scatter(df['Polarity'][i],df['Subjectivity'][i], color='Blue')\n",
        "\n",
        "plt.title('Sentiment Analysis')\n",
        "plt.xlabel('Polarity')\n",
        "plt.ylabel('Subjectivity')\n",
        "plt.show()"
      ],
      "execution_count": 19,
      "outputs": [
        {
          "output_type": "display_data",
          "data": {
            "image/png": "[encoded data removed]",
            "text/plain": [
              "<Figure size 576x432 with 1 Axes>"
            ]
          },
          "metadata": {
            "tags": [],
            "needs_background": "light"
          }
        }
      ]
    },
    {
      "cell_type": "code",
      "metadata": {
        "colab": {
          "base_uri": "https://localhost:8080/"
        },
        "id": "GkAmNG9UlTw7",
        "outputId": "3dc58164-cbc2-45d6-94c2-31eb6a48f109"
      },
      "source": [
        "# Get the percentage of positive tweets\n",
        "ptweets = df[df.Analysis == 'Positive']\n",
        "ptweets = ptweets['Tweets']\n",
        "\n",
        "round((ptweets.shape[0]/df.shape[0])*100,1)"
      ],
      "execution_count": 21,
      "outputs": [
        {
          "output_type": "execute_result",
          "data": {
            "text/plain": [
              "71.0"
            ]
          },
          "metadata": {
            "tags": []
          },
          "execution_count": 21
        }
      ]
    },
    {
      "cell_type": "code",
      "metadata": {
        "colab": {
          "base_uri": "https://localhost:8080/"
        },
        "id": "tKIGFdItl2gB",
        "outputId": "dcec4b3c-5903-4079-c6a9-9b8666b1cd7b"
      },
      "source": [
        "# Get the percentage of negative tweets\n",
        "ptweets = df[df.Analysis == 'Negative']\n",
        "ptweets = ptweets['Tweets']\n",
        "\n",
        "round((ptweets.shape[0]/df.shape[0])*100,1)"
      ],
      "execution_count": 22,
      "outputs": [
        {
          "output_type": "execute_result",
          "data": {
            "text/plain": [
              "13.0"
            ]
          },
          "metadata": {
            "tags": []
          },
          "execution_count": 22
        }
      ]
    },
    {
      "cell_type": "code",
      "metadata": {
        "colab": {
          "base_uri": "https://localhost:8080/",
          "height": 331
        },
        "id": "-__yNHlpm6Rd",
        "outputId": "191ff052-db3f-40f0-b1fb-9827017caa69"
      },
      "source": [
        "#Show the value counts\n",
        "\n",
        "df['Analysis'].value_counts()\n",
        "\n",
        "#plot and visualize the counts\n",
        "\n",
        "plt.title('Sentiment Analysis')\n",
        "plt.xlabel('Sentiment')\n",
        "plt.ylabel('Counts')\n",
        "df['Analysis'].value_counts().plot(kind='bar')\n",
        "plt.show()"
      ],
      "execution_count": 24,
      "outputs": [
        {
          "output_type": "display_data",
          "data": {
            "image/png": "[encoded data removed]",
            "text/plain": [
              "<Figure size 432x288 with 1 Axes>"
            ]
          },
          "metadata": {
            "tags": [],
            "needs_background": "light"
          }
        }
      ]
    },
    {
      "cell_type": "code",
      "metadata": {
        "id": "H9P9ISz8nzuv"
      },
      "source": [
        ""
      ],
      "execution_count": null,
      "outputs": []
    }
  ]
}